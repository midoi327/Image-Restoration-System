{
 "cells": [
  {
   "cell_type": "code",
   "execution_count": 23,
   "metadata": {},
   "outputs": [],
   "source": [
    "import torch\n",
    "import numpy as np\n",
    "# from basicsr.data import create_dataloader, create_dataset\n",
    "import basicsr.models\n",
    "from basicsr.models import create_model\n",
    "from basicsr.train import parse_options\n",
    "from basicsr.utils import FileClient, imfrombytes, img2tensor, padding, tensor2img, imwrite\n",
    "import os\n",
    "from glob import glob\n",
    "import cv2\n",
    "from PIL import Image\n",
    "from niqe import *"
   ]
  },
  {
   "cell_type": "code",
   "execution_count": 28,
   "metadata": {},
   "outputs": [],
   "source": [
    "def normalize(data):\n",
    "    return data/255.\n",
    "\n",
    "os.environ['CUDA_DEVICE_ORDER'] = 'PCI_BUS_ID'\n",
    "os.environ['CUDA_VISIBLE_DEVICES'] = '1'"
   ]
  },
  {
   "cell_type": "code",
   "execution_count": 35,
   "metadata": {},
   "outputs": [],
   "source": [
    "input_path = os.path.join('demo', 'FID300_seg') # FID300_seg 폴더를 input으로 사용 \n",
    "output_path = os.path.join('demo', 'Output_FID300_seg') # Output 폴더에 denoising 이미지 저장 \n",
    "\n",
    "files_source = glob(os.path.join('demo/FID300_seg', '*.png')) # 테스트하려는 이미지 \n",
    "files_source.sort()"
   ]
  },
  {
   "cell_type": "code",
   "execution_count": 34,
   "metadata": {},
   "outputs": [
    {
     "data": {
      "text/plain": [
       "[]"
      ]
     },
     "execution_count": 34,
     "metadata": {},
     "output_type": "execute_result"
    }
   ],
   "source": [
    "files_source"
   ]
  },
  {
   "cell_type": "code",
   "execution_count": 12,
   "metadata": {},
   "outputs": [],
   "source": [
    "niqe_test_before = 0 # 노이즈 제거 전 데이터셋 NIQE 평균 점수\n",
    "niqe_test_after = 0 # 노이즈 제거 후 데이터셋 NIQE 평균 점수"
   ]
  },
  {
   "cell_type": "code",
   "execution_count": 15,
   "metadata": {},
   "outputs": [],
   "source": [
    "for f in files_source:\n",
    "    \n",
    "    print('현재 파일:', f)\n",
    "    ## 1. read image\n",
    "    file_client = FileClient('disk')\n",
    "    img_bytes = file_client.get(f, None)\n",
    "    \n",
    "    try:\n",
    "        img = imfrombytes(img_bytes, float32=True)\n",
    "        \n",
    "        \n",
    "    except:\n",
    "        raise Exception(\"path {} not working\".format(f))\n",
    "\n",
    "    img = img2tensor(img, bgr2rgb=True, float32=True)\n",
    "    \n",
    "    \n",
    "    ## 2. run inference\n",
    "    model = create_model(opt='options/test/SIDD/NAFNet-width32.yml')\n",
    "    \n",
    "    model.feed_data(data={'lq': img.unsqueeze(dim=0)}) # (1, 481, 321, 3)\n",
    "    \n",
    "    if model.opt['val'].get('grids', False):\n",
    "        model.grids()\n",
    "\n",
    "    model.test()\n",
    "    \n",
    "    visuals = model.get_current_visuals()\n",
    "    sr_img = tensor2img([visuals['result']])  # cpu().numpy() 들어있음 \n",
    "    # print('sr_img 정보:', sr_img.shape) # img.shape: (481, 321, 3)\n",
    "    # sr_img = Image.fromarray(sr_img)\n",
    "    \n",
    "    output_filename = os.path.join(output_path, os.path.basename(f))\n",
    "    cv2.imwrite(output_filename, sr_img)\n",
    "    print(f'saved to {output_filename}')\n",
    "    \n",
    "    \n",
    "    ##3. niqe 점수 계산하기\n",
    "    \n",
    "    # rgb 이미지를 그레이스케일로 변환\n",
    "    \n",
    "    img_np = img.permute(1,2,0)# torch.Size([481, 321, 3])\n",
    "    gray_img= (img_np.cpu().numpy()[:,:,0]*255).astype(np.uint8) # (481, 321)\n",
    "    gray_sr_img = (sr_img[:,:,0]*255).astype(np.uint8) # (481, 321)\n",
    "    \n",
    "    niqe_score_before = niqe(gray_img)\n",
    "    niqe_score_after = niqe(gray_sr_img)\n",
    "    \n",
    "    niqe_test_before += niqe_score_before\n",
    "    niqe_test_after += niqe_score_after\n",
    "    \n",
    "    print(f'전 NIQE: {niqe_score_before: .3f}')\n",
    "    print(f'후 NIQE: {niqe_score_after: .3f}')"
   ]
  },
  {
   "cell_type": "code",
   "execution_count": null,
   "metadata": {},
   "outputs": [],
   "source": [
    "print('sum:', niqe_test_before, niqe_test_after)\n",
    "    \n",
    "niqe_test_before /= len(files_source)\n",
    "niqe_test_after /= len(files_source)\n",
    "print('\\n평균 노이즈 제거 전 NIQE 점수 %.3f' %niqe_test_before)\n",
    "print('평균 노이즈 제거 후 NIQE 점수 %.3f' %niqe_test_after)\n",
    "        "
   ]
  }
 ],
 "metadata": {
  "kernelspec": {
   "display_name": "nafnet",
   "language": "python",
   "name": "python3"
  },
  "language_info": {
   "codemirror_mode": {
    "name": "ipython",
    "version": 3
   },
   "file_extension": ".py",
   "mimetype": "text/x-python",
   "name": "python",
   "nbconvert_exporter": "python",
   "pygments_lexer": "ipython3",
   "version": "3.9.5"
  }
 },
 "nbformat": 4,
 "nbformat_minor": 2
}
